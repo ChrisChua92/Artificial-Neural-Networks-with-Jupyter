{
 "cells": [
  {
   "cell_type": "code",
   "execution_count": 1,
   "metadata": {
    "collapsed": false
   },
   "outputs": [
    {
     "name": "stdout",
     "output_type": "stream",
     "text": [
      "Populating the interactive namespace from numpy and matplotlib\n"
     ]
    }
   ],
   "source": [
    "%pylab inline"
   ]
  },
  {
   "cell_type": "code",
   "execution_count": null,
   "metadata": {
    "collapsed": true
   },
   "outputs": [],
   "source": []
  },
  {
   "cell_type": "code",
   "execution_count": 2,
   "metadata": {
    "collapsed": true
   },
   "outputs": [],
   "source": [
    "# http://bogotobogo.com/python/scikit-learn/Artificial-Neural-Network-ANN-10-Deep-Learning-3-Theano-TensorFlow-Keras.php"
   ]
  },
  {
   "cell_type": "code",
   "execution_count": 3,
   "metadata": {
    "collapsed": true
   },
   "outputs": [],
   "source": [
    "import theano"
   ]
  },
  {
   "cell_type": "code",
   "execution_count": 4,
   "metadata": {
    "collapsed": false
   },
   "outputs": [
    {
     "data": {
      "text/plain": [
       "array(200.5)"
      ]
     },
     "execution_count": 4,
     "metadata": {},
     "output_type": "execute_result"
    }
   ],
   "source": [
    "# initialize\n",
    "x1 = theano.tensor.scalar()\n",
    "w1 = theano.tensor.scalar()\n",
    "w0 = theano.tensor.scalar()\n",
    "z1 = w1 * x1 + w0\n",
    "\n",
    "# compile\n",
    "net_input = theano.function(inputs=[w1, x1, w0], outputs=z1)\n",
    "\n",
    "# execute\n",
    "net_input(20.0, 10.0, 0.5)"
   ]
  },
  {
   "cell_type": "code",
   "execution_count": 5,
   "metadata": {
    "collapsed": false
   },
   "outputs": [
    {
     "data": {
      "text/plain": [
       "'float64'"
      ]
     },
     "execution_count": 5,
     "metadata": {},
     "output_type": "execute_result"
    }
   ],
   "source": [
    "theano.config.floatX"
   ]
  },
  {
   "cell_type": "code",
   "execution_count": 6,
   "metadata": {
    "collapsed": false
   },
   "outputs": [
    {
     "data": {
      "text/plain": [
       "('cpu', 'float64')"
      ]
     },
     "execution_count": 6,
     "metadata": {},
     "output_type": "execute_result"
    }
   ],
   "source": [
    "theano.config.device, theano.config.floatX"
   ]
  },
  {
   "cell_type": "code",
   "execution_count": 7,
   "metadata": {
    "collapsed": false
   },
   "outputs": [
    {
     "name": "stdout",
     "output_type": "stream",
     "text": [
      "('Column sum Python list:', array([  9.,  11.,  13.]))\n",
      "('Column sum NumPy array:', array([  9.,  11.,  13.]))\n"
     ]
    }
   ],
   "source": [
    "import numpy as np\n",
    "\n",
    "# initialize\n",
    "# if running Theano on 32 bit mode, \n",
    "# use fmatrix instead of dmatrix\n",
    "x = theano.tensor.dmatrix(name='x')\n",
    "x_sum = theano.tensor.sum(x, axis=0)\n",
    "\n",
    "# compile\n",
    "calc_sum = theano.function(inputs=[x], outputs=x_sum)\n",
    "\n",
    "# execute (Python list)\n",
    "parray = [[1, 2, 3], [8, 9, 10]]\n",
    "print('Column sum Python list:', calc_sum(parray))\n",
    "\n",
    "# execute (NumPy array)\n",
    "nparray = np.array([[1, 2, 3], [8, 9, 10]], dtype=theano.config.floatX)\n",
    "print('Column sum NumPy array:', calc_sum(nparray))"
   ]
  },
  {
   "cell_type": "code",
   "execution_count": 8,
   "metadata": {
    "collapsed": false
   },
   "outputs": [
    {
     "data": {
      "text/plain": [
       "[[<TensorType(float64, matrix)>, Elemwise{add,no_inplace}.0]]"
      ]
     },
     "execution_count": 8,
     "metadata": {},
     "output_type": "execute_result"
    }
   ],
   "source": [
    "w = theano.shared(np.asarray([[0.0, 0.0, 0.0]], \n",
    "                             dtype=theano.config.floatX))\n",
    "update = [[w, w + 1.0]]\n",
    "update"
   ]
  },
  {
   "cell_type": "code",
   "execution_count": 9,
   "metadata": {
    "collapsed": false
   },
   "outputs": [
    {
     "name": "stdout",
     "output_type": "stream",
     "text": [
      "('z0:', array([[ 0.]]))\n",
      "('z1:', array([[ 6.]]))\n",
      "('z2:', array([[ 12.]]))\n",
      "('z3:', array([[ 18.]]))\n",
      "('z4:', array([[ 24.]]))\n"
     ]
    }
   ],
   "source": [
    "from theano import tensor as T\n",
    "\n",
    "# initialize\n",
    "x = T.dmatrix(name='x')\n",
    "w = theano.shared(np.asarray([[0.0, 0.0, 0.0]], \n",
    "                             dtype=theano.config.floatX))\n",
    "z = x.dot(w.T)\n",
    "update = [[w, w + 1.0]]\n",
    "\n",
    "# compile\n",
    "net_input = theano.function(inputs=[x], updates=update, outputs=z)\n",
    "\n",
    "# execute\n",
    "data = np.array([[1, 2, 3]], dtype=theano.config.floatX)\n",
    "for i in range(5):\n",
    "    print('z%d:' % i, net_input(data))"
   ]
  },
  {
   "cell_type": "code",
   "execution_count": 10,
   "metadata": {
    "collapsed": false
   },
   "outputs": [
    {
     "name": "stdout",
     "output_type": "stream",
     "text": [
      "('z:', array([[ 0.]]))\n",
      "('z:', array([[ 6.]]))\n",
      "('z:', array([[ 12.]]))\n",
      "('z:', array([[ 18.]]))\n",
      "('z:', array([[ 24.]]))\n"
     ]
    }
   ],
   "source": [
    "# initialize\n",
    "data = np.array([[1, 2, 3]], dtype=theano.config.floatX)\n",
    "x = T.dmatrix(name='x')\n",
    "w = theano.shared(np.asarray([[0.0, 0.0, 0.0]], \n",
    "                             dtype=theano.config.floatX))\n",
    "z = x.dot(w.T)\n",
    "update = [[w, w + 1.0]]\n",
    "\n",
    "# compile\n",
    "net_input = theano.function(inputs=[], \n",
    "                            updates=update, \n",
    "                            givens={x: data},\n",
    "                            outputs=z)\n",
    "\n",
    "# execute\n",
    "for i in range(5):\n",
    "    print('z:', net_input())"
   ]
  },
  {
   "cell_type": "code",
   "execution_count": null,
   "metadata": {
    "collapsed": true
   },
   "outputs": [],
   "source": []
  },
  {
   "cell_type": "code",
   "execution_count": 11,
   "metadata": {
    "collapsed": false
   },
   "outputs": [],
   "source": [
    "# Linear Regression"
   ]
  },
  {
   "cell_type": "code",
   "execution_count": 12,
   "metadata": {
    "collapsed": false
   },
   "outputs": [
    {
     "data": {
      "text/plain": [
       "(array([[ 0.],\n",
       "        [ 1.],\n",
       "        [ 2.],\n",
       "        [ 3.],\n",
       "        [ 4.],\n",
       "        [ 5.],\n",
       "        [ 6.],\n",
       "        [ 7.],\n",
       "        [ 8.],\n",
       "        [ 9.]]),\n",
       " array([ 1. ,  1.3,  3.1,  2. ,  5. ,  6.3,  6.6,  7.4,  8. ,  9. ]))"
      ]
     },
     "execution_count": 12,
     "metadata": {},
     "output_type": "execute_result"
    }
   ],
   "source": [
    "# creating one-dimensional dataset\n",
    "import numpy as np\n",
    "X_train = np.asarray([[0.0], [1.0], [2.0], [3.0], [4.0],\n",
    "                      [5.0], [6.0], [7.0], [8.0], [9.0]], \n",
    "                     dtype=theano.config.floatX)\n",
    "\n",
    "y_train = np.asarray([1.0, 1.3, 3.1, 2.0, 5.0, \n",
    "                      6.3, 6.6, 7.4, 8.0, 9.0], \n",
    "                     dtype=theano.config.floatX)\n",
    "X_train, y_train"
   ]
  },
  {
   "cell_type": "code",
   "execution_count": 13,
   "metadata": {
    "collapsed": true
   },
   "outputs": [],
   "source": [
    "import theano\n",
    "from theano import tensor as T\n",
    "import numpy as np\n",
    "\n",
    "def train_linreg(X_train, y_train, eta, epochs):\n",
    "\n",
    "    costs = []\n",
    "    # Initialize arrays\n",
    "    eta0 = T.dscalar('eta0')\n",
    "    y = T.dvector(name='y') \n",
    "    X = T.dmatrix(name='X')   \n",
    "    w = theano.shared(np.zeros(\n",
    "                      shape=(X_train.shape[1] + 1),\n",
    "                      dtype=theano.config.floatX),\n",
    "                      name='w')\n",
    "    \n",
    "    # calculate cost\n",
    "    net_input = T.dot(X, w[1:]) + w[0]\n",
    "    errors = y - net_input\n",
    "    cost = T.sum(T.pow(errors, 2)) \n",
    "\n",
    "    # perform gradient update\n",
    "    gradient = T.grad(cost, wrt=w)\n",
    "    update = [(w, w - eta0 * gradient)]\n",
    "\n",
    "    # compile model\n",
    "    train = theano.function(inputs=[eta0],\n",
    "                            outputs=cost,\n",
    "                            updates=update,\n",
    "                            givens={X: X_train,\n",
    "                                    y: y_train})      \n",
    "    \n",
    "    for _ in range(epochs):\n",
    "        costs.append(train(eta))\n",
    "    \n",
    "    return costs, w"
   ]
  },
  {
   "cell_type": "code",
   "execution_count": 14,
   "metadata": {
    "collapsed": false
   },
   "outputs": [
    {
     "data": {
      "image/png": "[encoded data removed]",
      "text/plain": [
       "<matplotlib.figure.Figure at 0x7fc7133301d0>"
      ]
     },
     "metadata": {},
     "output_type": "display_data"
    }
   ],
   "source": [
    "costs, w = train_linreg(X_train, y_train, eta=0.001, epochs=10)\n",
    "   \n",
    "plot(range(1, len(costs)+1), costs)\n",
    "\n",
    "tight_layout()\n",
    "xlabel('Epoch')\n",
    "ylabel('Cost')\n",
    "tight_layout()\n",
    "show()"
   ]
  },
  {
   "cell_type": "code",
   "execution_count": 15,
   "metadata": {
    "collapsed": false
   },
   "outputs": [
    {
     "data": {
      "image/png": "[encoded data removed]",
      "text/plain": [
       "<matplotlib.figure.Figure at 0x7fc7127d6590>"
      ]
     },
     "metadata": {},
     "output_type": "display_data"
    }
   ],
   "source": [
    "# prediction\n",
    "\n",
    "def predict_linreg(X, w):\n",
    "    Xt = T.matrix(name='X')\n",
    "    net_input = T.dot(Xt, w[1:]) + w[0]\n",
    "    predict = theano.function(inputs=[Xt], givens={w: w}, \n",
    "                              outputs=net_input)\n",
    "    return predict(X)\n",
    "\n",
    "scatter(X_train, y_train, marker='s', s=50)\n",
    "plot(range(X_train.shape[0]), \n",
    "         predict_linreg(X_train, w), \n",
    "         color='gray', \n",
    "         marker='o', \n",
    "         markersize=4, \n",
    "         linewidth=3)\n",
    "\n",
    "xlabel('x')\n",
    "ylabel('y')\n",
    "\n",
    "tight_layout()\n",
    "show()"
   ]
  },
  {
   "cell_type": "code",
   "execution_count": null,
   "metadata": {
    "collapsed": true
   },
   "outputs": [],
   "source": []
  },
  {
   "cell_type": "code",
   "execution_count": 16,
   "metadata": {
    "collapsed": true
   },
   "outputs": [],
   "source": [
    "# Keras"
   ]
  },
  {
   "cell_type": "code",
   "execution_count": 34,
   "metadata": {
    "collapsed": true
   },
   "outputs": [],
   "source": [
    "import os\n",
    "import struct\n",
    "import numpy as np\n",
    " \n",
    "def load_mnist(path, kind='train'):\n",
    "    \"\"\"Load MNIST data from `path`\"\"\"\n",
    "    labels_path = os.path.join(path, \n",
    "                               '%s-labels-idx1-ubyte' % kind)\n",
    "    images_path = os.path.join(path, \n",
    "                               '%s-images-idx3-ubyte' % kind)\n",
    "        \n",
    "    with open(labels_path, 'rb') as lbpath:\n",
    "        magic, n = struct.unpack('>II', \n",
    "                                 lbpath.read(8))\n",
    "        labels = np.fromfile(lbpath, \n",
    "                             dtype=np.uint8)\n",
    "\n",
    "    with open(images_path, 'rb') as imgpath:\n",
    "        magic, num, rows, cols = struct.unpack(\">IIII\", \n",
    "                                               imgpath.read(16))\n",
    "        images = np.fromfile(imgpath, \n",
    "                        dtype=np.uint8).reshape(len(labels), 784)\n",
    " \n",
    "    return images, labels"
   ]
  },
  {
   "cell_type": "code",
   "execution_count": 35,
   "metadata": {
    "collapsed": false
   },
   "outputs": [
    {
     "data": {
      "text/plain": [
       "(60000, 784)"
      ]
     },
     "execution_count": 35,
     "metadata": {},
     "output_type": "execute_result"
    }
   ],
   "source": [
    "X_train, y_train = load_mnist('mnist', kind='train')\n",
    "X_train.shape[0], X_train.shape[1]"
   ]
  },
  {
   "cell_type": "code",
   "execution_count": 36,
   "metadata": {
    "collapsed": false
   },
   "outputs": [
    {
     "data": {
      "text/plain": [
       "(10000, 784)"
      ]
     },
     "execution_count": 36,
     "metadata": {},
     "output_type": "execute_result"
    }
   ],
   "source": [
    "X_test, y_test = load_mnist('mnist', kind='t10k')\n",
    "X_test.shape[0], X_test.shape[1]"
   ]
  },
  {
   "cell_type": "code",
   "execution_count": 37,
   "metadata": {
    "collapsed": false
   },
   "outputs": [
    {
     "data": {
      "text/plain": [
       "((60000, 784), (10000, 784))"
      ]
     },
     "execution_count": 37,
     "metadata": {},
     "output_type": "execute_result"
    }
   ],
   "source": [
    "# image in 64-bit format\n",
    "\n",
    "import theano \n",
    "\n",
    "theano.config.floatX = 'float64'\n",
    "X_train = X_train.astype(theano.config.floatX)\n",
    "X_test = X_test.astype(theano.config.floatX)\n",
    "X_train.shape, X_test.shape"
   ]
  },
  {
   "cell_type": "code",
   "execution_count": 38,
   "metadata": {
    "collapsed": false
   },
   "outputs": [
    {
     "data": {
      "text/plain": [
       "array([5, 0, 4, 1, 9, 2, 1, 3, 1, 4], dtype=uint8)"
      ]
     },
     "execution_count": 38,
     "metadata": {},
     "output_type": "execute_result"
    }
   ],
   "source": [
    "# one-hot encoding class labels\n",
    "\n",
    "from keras.utils import np_utils\n",
    "\n",
    "y_train[:10]"
   ]
  },
  {
   "cell_type": "code",
   "execution_count": 39,
   "metadata": {
    "collapsed": false
   },
   "outputs": [
    {
     "data": {
      "text/plain": [
       "array([[ 0.,  0.,  0.,  0.,  0.,  1.,  0.,  0.,  0.,  0.],\n",
       "       [ 1.,  0.,  0.,  0.,  0.,  0.,  0.,  0.,  0.,  0.],\n",
       "       [ 0.,  0.,  0.,  0.,  1.,  0.,  0.,  0.,  0.,  0.],\n",
       "       [ 0.,  1.,  0.,  0.,  0.,  0.,  0.,  0.,  0.,  0.],\n",
       "       [ 0.,  0.,  0.,  0.,  0.,  0.,  0.,  0.,  0.,  1.],\n",
       "       [ 0.,  0.,  1.,  0.,  0.,  0.,  0.,  0.,  0.,  0.],\n",
       "       [ 0.,  1.,  0.,  0.,  0.,  0.,  0.,  0.,  0.,  0.],\n",
       "       [ 0.,  0.,  0.,  1.,  0.,  0.,  0.,  0.,  0.,  0.],\n",
       "       [ 0.,  1.,  0.,  0.,  0.,  0.,  0.,  0.,  0.,  0.],\n",
       "       [ 0.,  0.,  0.,  0.,  1.,  0.,  0.,  0.,  0.,  0.]])"
      ]
     },
     "execution_count": 39,
     "metadata": {},
     "output_type": "execute_result"
    }
   ],
   "source": [
    "y_train_OneHotEncoding = np_utils.to_categorical(y_train) \n",
    "y_train_OneHotEncoding[:10]"
   ]
  },
  {
   "cell_type": "code",
   "execution_count": 40,
   "metadata": {
    "collapsed": false,
    "scrolled": false
   },
   "outputs": [
    {
     "name": "stdout",
     "output_type": "stream",
     "text": [
      "Train on 54000 samples, validate on 6000 samples\n",
      "Epoch 1/50\n",
      "54000/54000 [==============================] - 13s - loss: 2.2460 - val_loss: 2.1508\n",
      "Epoch 2/50\n",
      "54000/54000 [==============================] - 12s - loss: 1.9574 - val_loss: 1.6992\n",
      "Epoch 3/50\n",
      "54000/54000 [==============================] - 12s - loss: 1.4466 - val_loss: 1.1753\n",
      "Epoch 4/50\n",
      "54000/54000 [==============================] - 12s - loss: 1.0397 - val_loss: 0.8597\n",
      "Epoch 5/50\n",
      "54000/54000 [==============================] - 12s - loss: 0.8057 - val_loss: 0.6754\n",
      "Epoch 6/50\n",
      "54000/54000 [==============================] - 12s - loss: 0.6599 - val_loss: 0.5551\n",
      "Epoch 7/50\n",
      "54000/54000 [==============================] - 12s - loss: 0.5638 - val_loss: 0.4743\n",
      "Epoch 8/50\n",
      "54000/54000 [==============================] - 13s - loss: 0.4981 - val_loss: 0.4194\n",
      "Epoch 9/50\n",
      "54000/54000 [==============================] - 13s - loss: 0.4505 - val_loss: 0.3785\n",
      "Epoch 10/50\n",
      "54000/54000 [==============================] - 13s - loss: 0.4180 - val_loss: 0.3641\n",
      "Epoch 11/50\n",
      "54000/54000 [==============================] - 13s - loss: 0.3967 - val_loss: 0.3374\n",
      "Epoch 12/50\n",
      "54000/54000 [==============================] - 13s - loss: 0.3726 - val_loss: 0.3183\n",
      "Epoch 13/50\n",
      "54000/54000 [==============================] - 13s - loss: 0.3525 - val_loss: 0.2942\n",
      "Epoch 14/50\n",
      "54000/54000 [==============================] - 13s - loss: 0.3392 - val_loss: 0.2930\n",
      "Epoch 15/50\n",
      "54000/54000 [==============================] - 13s - loss: 0.3313 - val_loss: 0.2798\n",
      "Epoch 16/50\n",
      "54000/54000 [==============================] - 13s - loss: 0.3163 - val_loss: 0.2684\n",
      "Epoch 17/50\n",
      "54000/54000 [==============================] - 13s - loss: 0.3102 - val_loss: 0.2545\n",
      "Epoch 18/50\n",
      "54000/54000 [==============================] - 13s - loss: 0.3019 - val_loss: 0.2593\n",
      "Epoch 19/50\n",
      "54000/54000 [==============================] - 13s - loss: 0.2900 - val_loss: 0.2447\n",
      "Epoch 20/50\n",
      "54000/54000 [==============================] - 13s - loss: 0.2846 - val_loss: 0.2530\n",
      "Epoch 21/50\n",
      "54000/54000 [==============================] - 13s - loss: 0.2849 - val_loss: 0.2439\n",
      "Epoch 22/50\n",
      "54000/54000 [==============================] - 13s - loss: 0.2727 - val_loss: 0.2373\n",
      "Epoch 23/50\n",
      "54000/54000 [==============================] - 13s - loss: 0.2666 - val_loss: 0.2351\n",
      "Epoch 24/50\n",
      "54000/54000 [==============================] - 14s - loss: 0.2587 - val_loss: 0.2285\n",
      "Epoch 25/50\n",
      "54000/54000 [==============================] - 16s - loss: 0.2588 - val_loss: 0.2221\n",
      "Epoch 26/50\n",
      "54000/54000 [==============================] - 14s - loss: 0.2534 - val_loss: 0.2222\n",
      "Epoch 27/50\n",
      "54000/54000 [==============================] - 14s - loss: 0.2564 - val_loss: 0.2147\n",
      "Epoch 28/50\n",
      "54000/54000 [==============================] - 14s - loss: 0.2477 - val_loss: 0.2194\n",
      "Epoch 29/50\n",
      "54000/54000 [==============================] - 14s - loss: 0.2481 - val_loss: 0.2096\n",
      "Epoch 30/50\n",
      "54000/54000 [==============================] - 14s - loss: 0.2393 - val_loss: 0.2152\n",
      "Epoch 31/50\n",
      "54000/54000 [==============================] - 14s - loss: 0.2406 - val_loss: 0.2104\n",
      "Epoch 32/50\n",
      "54000/54000 [==============================] - 14s - loss: 0.2348 - val_loss: 0.2105\n",
      "Epoch 33/50\n",
      "54000/54000 [==============================] - 14s - loss: 0.2322 - val_loss: 0.2033\n",
      "Epoch 34/50\n",
      "54000/54000 [==============================] - 14s - loss: 0.2276 - val_loss: 0.2071\n",
      "Epoch 35/50\n",
      "54000/54000 [==============================] - 14s - loss: 0.2280 - val_loss: 0.2079\n",
      "Epoch 36/50\n",
      "54000/54000 [==============================] - 14s - loss: 0.2230 - val_loss: 0.1955\n",
      "Epoch 37/50\n",
      "54000/54000 [==============================] - 14s - loss: 0.2225 - val_loss: 0.2010\n",
      "Epoch 38/50\n",
      "54000/54000 [==============================] - 14s - loss: 0.2258 - val_loss: 0.2067\n",
      "Epoch 39/50\n",
      "54000/54000 [==============================] - 14s - loss: 0.2146 - val_loss: 0.1904\n",
      "Epoch 40/50\n",
      "54000/54000 [==============================] - 14s - loss: 0.2085 - val_loss: 0.1845\n",
      "Epoch 41/50\n",
      "54000/54000 [==============================] - 14s - loss: 0.2073 - val_loss: 0.1798\n",
      "Epoch 42/50\n",
      "54000/54000 [==============================] - 14s - loss: 0.2080 - val_loss: 0.1781\n",
      "Epoch 43/50\n",
      "54000/54000 [==============================] - 14s - loss: 0.2016 - val_loss: 0.1773\n",
      "Epoch 44/50\n",
      "54000/54000 [==============================] - 14s - loss: 0.1990 - val_loss: 0.1807\n",
      "Epoch 45/50\n",
      "54000/54000 [==============================] - 15s - loss: 0.1986 - val_loss: 0.1736\n",
      "Epoch 46/50\n",
      "54000/54000 [==============================] - 14s - loss: 0.2014 - val_loss: 0.1842\n",
      "Epoch 47/50\n",
      "54000/54000 [==============================] - 14s - loss: 0.2094 - val_loss: 0.1806\n",
      "Epoch 48/50\n",
      "54000/54000 [==============================] - 14s - loss: 0.1942 - val_loss: 0.1732\n",
      "Epoch 49/50\n",
      "54000/54000 [==============================] - 14s - loss: 0.1929 - val_loss: 0.1745\n",
      "Epoch 50/50\n",
      "54000/54000 [==============================] - 14s - loss: 0.1884 - val_loss: 0.1689\n"
     ]
    },
    {
     "data": {
      "text/plain": [
       "<keras.callbacks.History at 0x7fc6e8865b90>"
      ]
     },
     "execution_count": 40,
     "metadata": {},
     "output_type": "execute_result"
    }
   ],
   "source": [
    "from keras.models import Sequential\n",
    "from keras.layers.core import Dense\n",
    "from keras.optimizers import SGD\n",
    "\n",
    "np.random.seed(1) \n",
    "\n",
    "model = Sequential()\n",
    "model.add(Dense(input_dim=X_train.shape[1], \n",
    "                output_dim=50, \n",
    "                init='uniform', \n",
    "                activation='tanh'))\n",
    "\n",
    "model.add(Dense(input_dim=50, \n",
    "                output_dim=50, \n",
    "                init='uniform', \n",
    "                activation='tanh'))\n",
    "\n",
    "model.add(Dense(input_dim=50, \n",
    "                output_dim=y_train_OneHotEncoding.shape[1], \n",
    "                init='uniform', \n",
    "                activation='softmax'))\n",
    "\n",
    "sgd = SGD(lr=0.001, decay=1e-7, momentum=.9)\n",
    "model.compile(loss='categorical_crossentropy', optimizer=sgd)\n",
    "\n",
    "model.fit(X_train, y_train_OneHotEncoding, nb_epoch=50, \n",
    "          batch_size=300, verbose=1, \n",
    "          validation_split=0.1, show_accuracy=True)"
   ]
  },
  {
   "cell_type": "code",
   "execution_count": 47,
   "metadata": {
    "collapsed": false
   },
   "outputs": [
    {
     "data": {
      "text/plain": [
       "array([5, 0, 4, 1, 9, 2, 1, 3, 1, 4, 3, 5, 3, 6, 1, 7, 2, 8, 6, 9, 4, 0, 9,\n",
       "       1, 1, 2, 4, 3, 2, 7, 3, 8, 6, 9, 0, 5, 6, 0, 7, 6, 1, 8, 7, 9, 3, 9,\n",
       "       8, 5, 3, 3, 3, 0, 7, 4, 9, 8, 0, 9, 4, 1, 4, 4, 6, 0, 4, 5, 6, 1, 0,\n",
       "       0, 1, 7, 1, 6, 3, 0, 2, 1, 1, 7, 8, 0, 2, 6, 7, 8, 3, 9, 0, 4, 6, 7,\n",
       "       4, 6, 8, 0, 7, 8, 3, 1])"
      ]
     },
     "execution_count": 47,
     "metadata": {},
     "output_type": "execute_result"
    }
   ],
   "source": [
    "y_train_pred = model.predict_classes(X_train, verbose=0)\n",
    "y_train_pred[:100]"
   ]
  },
  {
   "cell_type": "code",
   "execution_count": 48,
   "metadata": {
    "collapsed": false
   },
   "outputs": [
    {
     "data": {
      "text/plain": [
       "array([5, 0, 4, 1, 9, 2, 1, 3, 1, 4, 3, 5, 3, 6, 1, 7, 2, 8, 6, 9, 4, 0, 9,\n",
       "       1, 1, 2, 4, 3, 2, 7, 3, 8, 6, 9, 0, 5, 6, 0, 7, 6, 1, 8, 7, 9, 3, 9,\n",
       "       8, 5, 9, 3, 3, 0, 7, 4, 9, 8, 0, 9, 4, 1, 4, 4, 6, 0, 4, 5, 6, 1, 0,\n",
       "       0, 1, 7, 1, 6, 3, 0, 2, 1, 1, 7, 9, 0, 2, 6, 7, 8, 3, 9, 0, 4, 6, 7,\n",
       "       4, 6, 8, 0, 7, 8, 3, 1], dtype=uint8)"
      ]
     },
     "execution_count": 48,
     "metadata": {},
     "output_type": "execute_result"
    }
   ],
   "source": [
    "y_train[:100]"
   ]
  },
  {
   "cell_type": "code",
   "execution_count": 50,
   "metadata": {
    "collapsed": false
   },
   "outputs": [
    {
     "data": {
      "text/plain": [
       "((60000,), (60000,))"
      ]
     },
     "execution_count": 50,
     "metadata": {},
     "output_type": "execute_result"
    }
   ],
   "source": [
    "y_train.shape, y_train_pred.shape"
   ]
  },
  {
   "cell_type": "code",
   "execution_count": 52,
   "metadata": {
    "collapsed": false
   },
   "outputs": [
    {
     "data": {
      "text/plain": [
       "94.808333333333323"
      ]
     },
     "execution_count": 52,
     "metadata": {},
     "output_type": "execute_result"
    }
   ],
   "source": [
    "train_acc = np.sum(y_train == y_train_pred, axis=0, dtype='float') / X_train.shape[0]\n",
    "train_acc*100"
   ]
  },
  {
   "cell_type": "code",
   "execution_count": null,
   "metadata": {
    "collapsed": true
   },
   "outputs": [],
   "source": []
  }
 ],
 "metadata": {
  "kernelspec": {
   "display_name": "Python 2",
   "language": "python",
   "name": "python2"
  },
  "language_info": {
   "codemirror_mode": {
    "name": "ipython",
    "version": 2
   },
   "file_extension": ".py",
   "mimetype": "text/x-python",
   "name": "python",
   "nbconvert_exporter": "python",
   "pygments_lexer": "ipython2",
   "version": "2.7.12"
  }
 },
 "nbformat": 4,
 "nbformat_minor": 1
}
